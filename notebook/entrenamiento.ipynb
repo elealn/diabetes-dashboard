from sklearn.datasets import load_diabetes
from sklearn.model_selection import train_test_split
from sklearn.linear_model import LinearRegression
from sklearn.metrics import r2_score, mean_squared_error
import pandas as pd
import joblib

# Cargar datos
data = load_diabetes()
X = pd.DataFrame(data.data, columns=data.feature_names)
selected_features = ['age', 'bmi', 'bp','s6']
X = X[selected_features]

y = data.target

# Divisi�n de datos
X_train, X_test, y_train, y_test = train_test_split(X, y, test_size=0.2, random_state=42)

# Entrenar modelo
model = LinearRegression()
model.fit(X_train, y_train)

# Evaluaci�n
y_pred = model.predict(X_test)
print(f"R2 Score: {r2_score(y_test, y_pred)}")
print(f"MSE: {mean_squared_error(y_test, y_pred)}")

# Guardar modelo
joblib.dump(model, 'model.pkl')

